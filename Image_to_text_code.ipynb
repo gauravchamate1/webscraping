{
 "cells": [
  {
   "cell_type": "code",
   "execution_count": null,
   "id": "17aadaf5",
   "metadata": {},
   "outputs": [],
   "source": [
    "Download tesseract ocr"
   ]
  },
  {
   "cell_type": "code",
   "execution_count": null,
   "id": "88779a33",
   "metadata": {},
   "outputs": [],
   "source": [
    "import pytesseract\n",
    "pytesseract.pytesseract.tesseract_cmd = r'C:\\Program Files (x86)\\Tesseract_OCR\\tesseract.exe' ##path of tesseract ocr file in your system\n",
    "image_path = 'pan_card.jpeg' # path of image in your system\n",
    "\n",
    "pan_text = pytesseract.image_to_string(image_path)\n",
    "print(pan_text)"
   ]
  }
 ],
 "metadata": {
  "kernelspec": {
   "display_name": "Python 3 (ipykernel)",
   "language": "python",
   "name": "python3"
  },
  "language_info": {
   "codemirror_mode": {
    "name": "ipython",
    "version": 3
   },
   "file_extension": ".py",
   "mimetype": "text/x-python",
   "name": "python",
   "nbconvert_exporter": "python",
   "pygments_lexer": "ipython3",
   "version": "3.7.8"
  }
 },
 "nbformat": 4,
 "nbformat_minor": 5
}
